{
  "nbformat": 4,
  "nbformat_minor": 0,
  "metadata": {
    "colab": {
      "provenance": []
    },
    "kernelspec": {
      "name": "python3",
      "display_name": "Python 3"
    },
    "language_info": {
      "name": "python"
    }
  },
  "cells": [
    {
      "cell_type": "code",
      "execution_count": null,
      "metadata": {
        "id": "5h9v1v6l2vwi"
      },
      "outputs": [],
      "source": [
        "import numpy as np"
      ]
    },
    {
      "cell_type": "code",
      "source": [
        "d = 30\n",
        "tamanho_pop = 50\n",
        "qte_filhos = 350\n",
        "max_geracoes = 100\n",
        "taxa_mut = 0.1"
      ],
      "metadata": {
        "id": "nkXVJzDl2z-W"
      },
      "execution_count": null,
      "outputs": []
    },
    {
      "cell_type": "code",
      "source": [
        "def ackley(x):\n",
        "    a = 20\n",
        "    b = 0.2\n",
        "    c = 2 * np.pi\n",
        "    term1 = -a * np.exp(-b * np.sqrt(np.sum(x**2) / d))\n",
        "    term2 = -np.exp(np.sum(np.cos(c * x)) / d)\n",
        "    return term1 + term2 + a + np.exp(1)"
      ],
      "metadata": {
        "id": "zcVR9ovy3mhG"
      },
      "execution_count": null,
      "outputs": []
    },
    {
      "cell_type": "code",
      "source": [
        "def rastrigin(x):\n",
        "    return 10 * d + np.sum(x**2 - 10 * np.cos(2 * np.pi * x))\n"
      ],
      "metadata": {
        "id": "zQtlqyob7wEb"
      },
      "execution_count": null,
      "outputs": []
    },
    {
      "cell_type": "code",
      "source": [
        "def schwefel(x):\n",
        "    return 418.9829 * d - np.sum(x * np.sin(np.sqrt(np.abs(x))))"
      ],
      "metadata": {
        "id": "vMhwvyD67yYx"
      },
      "execution_count": null,
      "outputs": []
    },
    {
      "cell_type": "code",
      "source": [
        "def rosenbrock(x):\n",
        "    return np.sum(100 * (x[1:] - x[:-1]**2)**2 + (1 - x[:-1])**2)"
      ],
      "metadata": {
        "id": "KEynrEvB70qq"
      },
      "execution_count": null,
      "outputs": []
    },
    {
      "cell_type": "code",
      "source": [
        "import numpy as np\n",
        "\n",
        "# Parâmetros do algoritmo genético\n",
        "population_size = 100\n",
        "mutation_rate = 0.1\n",
        "crossover_rate = 0.8\n",
        "num_generations = 100\n",
        "\n",
        "# Configurações das funções\n",
        "d = 30\n",
        "lower_bound = -5.12\n",
        "upper_bound = 5.12\n",
        "\n",
        "# Funções de otimização\n",
        "def ackley(x):\n",
        "    a = 20\n",
        "    b = 0.2\n",
        "    c = 2 * np.pi\n",
        "    term1 = -a * np.exp(-b * np.sqrt(np.sum(x**2) / d))\n",
        "    term2 = -np.exp(np.sum(np.cos(c * x)) / d)\n",
        "    return term1 + term2 + a + np.exp(1)\n",
        "\n",
        "def rastrigin(x):\n",
        "    return 10 * d + np.sum(x**2 - 10 * np.cos(2 * np.pi * x))\n",
        "\n",
        "def schwefel(x):\n",
        "    return 418.9829 * d - np.sum(x * np.sin(np.sqrt(np.abs(x))))\n",
        "\n",
        "def rosenbrock(x):\n",
        "    return np.sum(100 * (x[1:] - x[:-1]**2)**2 + (1 - x[:-1])**2)\n",
        "\n",
        "# Função de aptidão (fitness)\n",
        "def fitness_function(population, func):\n",
        "    return np.array([func(individual) for individual in population])\n",
        "\n",
        "# Inicialização da população\n",
        "population = np.random.uniform(lower_bound, upper_bound, size=(population_size, d))\n",
        "\n",
        "# Execução do algoritmo genético\n",
        "for generation in range(num_generations):\n",
        "    fitness_values = fitness_function(population, ackley)  # Use a função desejada aqui\n",
        "    best_index = np.argmin(fitness_values)\n",
        "    best_individual = population[best_index]\n",
        "    print(f\"Generation {generation+1} - Best Fitness: {fitness_values[best_index]}\")\n",
        "\n",
        "    # Seleção dos pais usando torneio binário\n",
        "    parents = []\n",
        "    for _ in range(population_size):\n",
        "        tournament = np.random.choice(population_size, size=2, replace=False)\n",
        "        if fitness_values[tournament[0]] < fitness_values[tournament[1]]:\n",
        "            parents.append(population[tournament[0]])\n",
        "        else:\n",
        "            parents.append(population[tournament[1]])\n",
        "\n",
        "    # Cruzamento (crossover) e mutação\n",
        "    offspring = []\n",
        "    for i in range(0, population_size, 2):\n",
        "        parent1 = parents[i]\n",
        "        parent2 = parents[i+1]\n",
        "        crossover_prob = np.random.rand()\n",
        "        if crossover_prob < crossover_rate:\n",
        "            crossover_point = np.random.randint(1, d)\n",
        "            child1 = np.concatenate((parent1[:crossover_point], parent2[crossover_point:]))\n",
        "            child2 = np.concatenate((parent2[:crossover_point], parent1[crossover_point:]))\n",
        "        else:\n",
        "            child1 = parent1\n",
        "            child2 = parent2\n",
        "\n",
        "        mutation_mask = np.random.rand(d) < mutation_rate\n",
        "        mutation_amount = np.random.uniform(lower_bound, upper_bound, size=d)\n",
        "        child1[mutation_mask] += mutation_amount[mutation_mask]\n",
        "        child2[mutation_mask] += mutation_amount[mutation_mask]\n",
        "\n",
        "        offspring.extend([child1, child2])\n",
        "\n",
        "    population = np.array(offspring)\n",
        "\n",
        "print(\"Optimization finished.\")\n",
        "print(\"Best individual:\", best_individual)\n",
        "print(\"Best fitness value:\", fitness_values[best_index])\n"
      ],
      "metadata": {
        "id": "85JDV8sk73Op"
      },
      "execution_count": null,
      "outputs": []
    }
  ]
}