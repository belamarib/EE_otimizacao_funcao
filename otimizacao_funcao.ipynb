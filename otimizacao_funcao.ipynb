{
  "nbformat": 4,
  "nbformat_minor": 0,
  "metadata": {
    "colab": {
      "provenance": []
    },
    "kernelspec": {
      "name": "python3",
      "display_name": "Python 3"
    },
    "language_info": {
      "name": "python"
    }
  },
  "cells": [
    {
      "cell_type": "code",
      "execution_count": 1,
      "metadata": {
        "id": "apY4qwgk6Ajk"
      },
      "outputs": [],
      "source": [
        "import numpy as np"
      ]
    },
    {
      "cell_type": "markdown",
      "source": [
        "### Parâmetros"
      ],
      "metadata": {
        "id": "7lujvYH96RE5"
      }
    },
    {
      "cell_type": "code",
      "source": [
        "d = 30\n",
        "tamanho_pop = 50\n",
        "qte_filhos = 350\n",
        "max_geracoes = 100\n",
        "taxa_mut = 0.1"
      ],
      "metadata": {
        "id": "OjzpnNr9DiiG"
      },
      "execution_count": 5,
      "outputs": []
    },
    {
      "cell_type": "markdown",
      "source": [
        "### Funções de fitness"
      ],
      "metadata": {
        "id": "HhIZmnQnCAkv"
      }
    },
    {
      "cell_type": "code",
      "source": [
        "def ackley(x):\n",
        "    a = 20\n",
        "    b = 0.2\n",
        "    c = 2 * np.pi\n",
        "    term1 = -a * np.exp(-b * np.sqrt(np.sum(x**2) / d))\n",
        "    term2 = -np.exp(np.sum(np.cos(c * x)) / d)\n",
        "    return term1 + term2 + a + np.exp(1)"
      ],
      "metadata": {
        "id": "IYQBVMF3CCg3"
      },
      "execution_count": 6,
      "outputs": []
    },
    {
      "cell_type": "code",
      "source": [
        "def rastrigin(x):\n",
        "    return 10 * d + np.sum(x**2 - 10 * np.cos(2 * np.pi * x))"
      ],
      "metadata": {
        "id": "_7O6czyJCGkH"
      },
      "execution_count": 7,
      "outputs": []
    },
    {
      "cell_type": "code",
      "source": [
        "def schwefel(x):\n",
        "    return 418.9829 * d - np.sum(x * np.sin(np.sqrt(np.abs(x))))"
      ],
      "metadata": {
        "id": "2Zh6BgWOCHru"
      },
      "execution_count": 8,
      "outputs": []
    },
    {
      "cell_type": "code",
      "source": [
        "def rosenbrock(x):\n",
        "    return np.sum(100 * (x[1:] - x[:-1]**2)**2 + (1 - x[:-1])**2)"
      ],
      "metadata": {
        "id": "XEsiglonCI6e"
      },
      "execution_count": 9,
      "outputs": []
    },
    {
      "cell_type": "markdown",
      "source": [
        "### Inicialização da população\n",
        "A população é representada por uma matriz bidimensional, na qual cada linha representa um indivíduo e cada coluna representa um gene. Dependendo da função que queremos analisar, definimos um intervalo de valores diferentes para os genes."
      ],
      "metadata": {
        "id": "h-A6RdxUCd4G"
      }
    },
    {
      "cell_type": "code",
      "source": [
        "def init_populacao(f):\n",
        "    if f == ackley:\n",
        "      return np.random.uniform(-32.768, 32.768, size=(tamanho_pop, d))\n",
        "    elif f == rastrigin:\n",
        "      return np.random.uniform(-5.12, 5.12, size=(tamanho_pop, d))\n",
        "    elif f == schwefel:\n",
        "      return np.random.uniform(-500, 500, size=(tamanho_pop, d))\n",
        "    elif f == rosenbrock:\n",
        "      return np.random.uniform(-2.048, 2.048, size=(tamanho_pop, d))"
      ],
      "metadata": {
        "id": "Rm7IUg26Dd3G"
      },
      "execution_count": 10,
      "outputs": []
    },
    {
      "cell_type": "markdown",
      "source": [
        "### Seleção de pais\n",
        "Seleção por distribuição uniforme, na qual todos os indivíduos têm a mesma probabilidade de serem escolhidos."
      ],
      "metadata": {
        "id": "5Hiv_-szHwFl"
      }
    },
    {
      "cell_type": "code",
      "source": [
        "def selecao_pais(populacao):\n",
        "    indice = np.random.randint(0, len(populacao))\n",
        "    return populacao[indice].reshape(1,-1)"
      ],
      "metadata": {
        "id": "BDKwjpBrHyx8"
      },
      "execution_count": 95,
      "outputs": []
    },
    {
      "cell_type": "markdown",
      "source": [
        "### Recombinação intermediária\n",
        "Define uma combinação linear entre os cromossomos dos dois pais. Alpha é uma matriz com valores aleatórios entre 0 e 1."
      ],
      "metadata": {
        "id": "g9gZ_j_XNOtL"
      }
    },
    {
      "cell_type": "code",
      "source": [
        "def crossover(pai1, pai2):\n",
        "    alpha = np.random.rand(d)\n",
        "    filho = alpha * pai1 + (1 - alpha) * pai2\n",
        "    return filho"
      ],
      "metadata": {
        "id": "0kJM4DjVNRkK"
      },
      "execution_count": 34,
      "outputs": []
    },
    {
      "cell_type": "markdown",
      "source": [
        "### Mutação Gaussiana\n",
        "Índices aleatórios dos genes do filho gerado são escolhidos para ser aplicada a mutação, com base na taxa definida. A partir daí, são adicionados nesses genes valores de uma distribuição gaussiana com média 0 e desvio padrão 1."
      ],
      "metadata": {
        "id": "0OsuffMoRZ71"
      }
    },
    {
      "cell_type": "code",
      "source": [
        "def mutacao(filho):\n",
        "    mascara_mut = np.random.rand(1,d) < taxa_mut\n",
        "    indices_true = np.where(mascara_mut[0])[0]\n",
        "    for idx in indices_true:\n",
        "      filho[0][idx] += np.random.normal(0, 1)\n",
        "    return filho"
      ],
      "metadata": {
        "id": "S-3qsUMsRb9b"
      },
      "execution_count": 96,
      "outputs": []
    },
    {
      "cell_type": "markdown",
      "source": [
        "### Seleção de sobreviventes\n",
        "É usada a estratégia ( μ , λ ) de seleção de sobreviventes, na qual λ = 7 . μ, sendo selecionados os 50 melhores filhos entre os 350."
      ],
      "metadata": {
        "id": "lAOBbmvPaLCZ"
      }
    },
    {
      "cell_type": "code",
      "source": [
        "def selecao_sobreviventes(populacao_nova, funcao_fitness):\n",
        "    sobreviventes = sorted(populacao_nova, key=funcao_fitness)\n",
        "    sobreviventes = sobreviventes[:50]\n",
        "    return sobreviventes"
      ],
      "metadata": {
        "id": "uqVtBSXraRTm"
      },
      "execution_count": 97,
      "outputs": []
    },
    {
      "cell_type": "markdown",
      "source": [
        "### Algoritmo de Estratégia Evolutiva"
      ],
      "metadata": {
        "id": "xRXpfIGyTwv8"
      }
    },
    {
      "cell_type": "code",
      "source": [
        "def estrategia_evolutiva(funcao_fitness):\n",
        "    populacao = init_populacao(funcao_fitness)\n",
        "\n",
        "    for geracao in range(max_geracoes):\n",
        "        fitness_populacao = np.array([funcao_fitness(individuo) for individuo in populacao])\n",
        "\n",
        "        melhor_indice = np.argmin(fitness_populacao)\n",
        "        melhor_individuo = populacao[melhor_indice]\n",
        "        melhor_fitness = fitness_populacao[melhor_indice]\n",
        "\n",
        "        if geracao % 10 == 0:\n",
        "            print(f\"Geração {geracao}: Melhor Fitness = {melhor_fitness}\")\n",
        "\n",
        "        populacao_nova = []\n",
        "\n",
        "        while len(populacao_nova) < qte_filhos:\n",
        "            pai1 = selecao_pais(populacao)\n",
        "            pai2 = selecao_pais(populacao)\n",
        "\n",
        "            filho = crossover(pai1, pai2)\n",
        "            filho = mutacao(filho)\n",
        "\n",
        "            populacao_nova.append(filho)\n",
        "\n",
        "        sobreviventes = selecao_sobreviventes(populacao_nova, funcao_fitness)\n",
        "        populacao = np.array(sobreviventes)\n",
        "\n",
        "    return melhor_individuo, melhor_fitness"
      ],
      "metadata": {
        "id": "fPGQ8SvSTz5x"
      },
      "execution_count": 98,
      "outputs": []
    },
    {
      "cell_type": "markdown",
      "source": [
        "### Rodando a EE para a função Ackley"
      ],
      "metadata": {
        "id": "PMr7Tsb-Xzaf"
      }
    },
    {
      "cell_type": "code",
      "source": [
        "melhor_solucao, melhor_fitness = estrategia_evolutiva(ackley)\n",
        "print(f\"Melhor Solução: {melhor_solucao}\")\n",
        "print(f\"Melhor Fitness: {melhor_fitness}\")"
      ],
      "metadata": {
        "colab": {
          "base_uri": "https://localhost:8080/"
        },
        "id": "Xal1cRKvX2b6",
        "outputId": "f5a8a480-b5ff-4ef6-c7a4-29ebb4a4f63f"
      },
      "execution_count": 99,
      "outputs": [
        {
          "output_type": "stream",
          "name": "stdout",
          "text": [
            "Geração 0: Melhor Fitness = 20.675026897584758\n",
            "Geração 10: Melhor Fitness = 5.291438159189795\n",
            "Geração 20: Melhor Fitness = 3.0815000843238036\n",
            "Geração 30: Melhor Fitness = 1.3497947644725277\n",
            "Geração 40: Melhor Fitness = 0.7437679053857456\n",
            "Geração 50: Melhor Fitness = 0.37142855626083504\n",
            "Geração 60: Melhor Fitness = 0.40204757617504017\n",
            "Geração 70: Melhor Fitness = 0.35841048882822735\n",
            "Geração 80: Melhor Fitness = 0.37194943140115955\n",
            "Geração 90: Melhor Fitness = 0.30383103225650077\n",
            "Melhor Solução: [[-4.77400599e-02  7.19039296e-02  7.79764538e-02  2.16124982e-02\n",
            "   8.39627399e-02  3.44430699e-03 -1.61941360e-02 -5.81688789e-02\n",
            "  -1.97404720e-02  6.28204137e-02  6.00809219e-02  6.38753781e-03\n",
            "  -1.82927221e-02  5.77206063e-02  3.19771513e-02  9.58682786e-04\n",
            "   4.22724712e-02 -3.84980327e-02  4.45878098e-02  7.47076195e-02\n",
            "  -5.62547778e-05  9.84274583e-03 -1.71617455e-02  1.81548642e-02\n",
            "   2.23165783e-02 -2.71701551e-03 -3.43275811e-02 -8.73823989e-03\n",
            "  -6.37921095e-02  1.05636949e-01]]\n",
            "Melhor Fitness: 0.30005434122301766\n"
          ]
        }
      ]
    },
    {
      "cell_type": "markdown",
      "source": [
        "### Rodando a EE para a função Rastrigin"
      ],
      "metadata": {
        "id": "mQpzcPiBYhjp"
      }
    },
    {
      "cell_type": "code",
      "source": [
        "melhor_solucao, melhor_fitness = estrategia_evolutiva(rastrigin)\n",
        "print(f\"Melhor Solução: {melhor_solucao}\")\n",
        "print(f\"Melhor Fitness: {melhor_fitness}\")"
      ],
      "metadata": {
        "colab": {
          "base_uri": "https://localhost:8080/"
        },
        "id": "GkXRrLrEYhRH",
        "outputId": "a29e166b-3d1f-4e71-9fd8-3a5e49abc80a"
      },
      "execution_count": 100,
      "outputs": [
        {
          "output_type": "stream",
          "name": "stdout",
          "text": [
            "Geração 0: Melhor Fitness = 445.92856988318897\n",
            "Geração 10: Melhor Fitness = 153.95261259887624\n",
            "Geração 20: Melhor Fitness = 89.27840717220946\n",
            "Geração 30: Melhor Fitness = 84.0600569527802\n",
            "Geração 40: Melhor Fitness = 42.00532666209307\n",
            "Geração 50: Melhor Fitness = 55.48676926962176\n",
            "Geração 60: Melhor Fitness = 60.18067176452817\n",
            "Geração 70: Melhor Fitness = 69.75083270788107\n",
            "Geração 80: Melhor Fitness = 60.95195428527819\n",
            "Geração 90: Melhor Fitness = 63.77687702435324\n",
            "Melhor Solução: [[ 0.03299123  0.90284877 -0.04013194  0.79152093  0.11986477 -0.26988972\n",
            "  -0.04312227 -0.13075911 -0.00243765  0.02844138  0.03470179 -0.97056584\n",
            "  -0.00526383  0.00519673 -0.01056597  0.04684479 -0.01725929 -0.04523046\n",
            "  -0.13383872 -0.06011485  0.81889629  0.00752842 -0.05296576  0.0071876\n",
            "   0.05263036 -0.16849989  0.97915757 -1.02175286 -0.03316123 -0.11603729]]\n",
            "Melhor Fitness: 52.9867154813862\n"
          ]
        }
      ]
    },
    {
      "cell_type": "markdown",
      "source": [
        "### Rodando a EE para a função Schwefel"
      ],
      "metadata": {
        "id": "TzQkePvbYvdS"
      }
    },
    {
      "cell_type": "code",
      "source": [
        "melhor_solucao, melhor_fitness = estrategia_evolutiva(schwefel)\n",
        "print(f\"Melhor Solução: {melhor_solucao}\")\n",
        "print(f\"Melhor Fitness: {melhor_fitness}\")"
      ],
      "metadata": {
        "colab": {
          "base_uri": "https://localhost:8080/"
        },
        "id": "GptE-NPAY2Ee",
        "outputId": "d81060f7-4813-4628-f45f-3e483d6b0bf3"
      },
      "execution_count": 101,
      "outputs": [
        {
          "output_type": "stream",
          "name": "stdout",
          "text": [
            "Geração 0: Melhor Fitness = 10464.980476640732\n",
            "Geração 10: Melhor Fitness = 9484.086365705418\n",
            "Geração 20: Melhor Fitness = 8900.780673441586\n",
            "Geração 30: Melhor Fitness = 8760.85553149641\n",
            "Geração 40: Melhor Fitness = 8628.975298160372\n",
            "Geração 50: Melhor Fitness = 8509.882013838347\n",
            "Geração 60: Melhor Fitness = 8407.428718802072\n",
            "Geração 70: Melhor Fitness = 8299.030638873155\n",
            "Geração 80: Melhor Fitness = 8219.199812574783\n",
            "Geração 90: Melhor Fitness = 8147.772216667083\n",
            "Melhor Solução: [[ 413.11656731 -119.50995265 -120.81444566 -308.07444627  189.10946774\n",
            "   204.75142476   65.69860447    9.21132625  -29.65963122   64.4591026\n",
            "   205.12762409  201.25229304  410.6133913    65.75601325  -21.85444218\n",
            "    65.14855696  -25.63717679 -120.37249288   61.36375185 -129.64573939\n",
            "   195.908848    414.0612591  -115.66888916   -2.06465291  197.88685043\n",
            "    68.08585749 -120.35909166 -298.84893568  -31.09363207 -301.60532025]]\n",
            "Melhor Fitness: 8094.252402478903\n"
          ]
        }
      ]
    },
    {
      "cell_type": "markdown",
      "source": [
        "### Rodando a EE para a função Rosebrock"
      ],
      "metadata": {
        "id": "hPpzPkmzY6Xp"
      }
    },
    {
      "cell_type": "code",
      "source": [
        "melhor_solucao, melhor_fitness = estrategia_evolutiva(rosenbrock)\n",
        "print(f\"Melhor Solução: {melhor_solucao}\")\n",
        "print(f\"Melhor Fitness: {melhor_fitness}\")"
      ],
      "metadata": {
        "colab": {
          "base_uri": "https://localhost:8080/"
        },
        "id": "UgIiDxfTY-ZH",
        "outputId": "ea88bf3f-1a48-4a56-9abe-9367cac9da5a"
      },
      "execution_count": 102,
      "outputs": [
        {
          "output_type": "stream",
          "name": "stdout",
          "text": [
            "Geração 0: Melhor Fitness = 6756.595678831494\n",
            "Geração 10: Melhor Fitness = 0.0\n",
            "Geração 20: Melhor Fitness = 0.0\n",
            "Geração 30: Melhor Fitness = 0.0\n",
            "Geração 40: Melhor Fitness = 0.0\n",
            "Geração 50: Melhor Fitness = 0.0\n",
            "Geração 60: Melhor Fitness = 0.0\n",
            "Geração 70: Melhor Fitness = 0.0\n",
            "Geração 80: Melhor Fitness = 0.0\n",
            "Geração 90: Melhor Fitness = 0.0\n",
            "Melhor Solução: [[-1.17608688  0.21177863  0.78749744 -0.36072437 -0.45757056 -1.43989741\n",
            "   0.61782786  1.16749151  0.58380435 -0.59799647 -0.6485337   1.55483975\n",
            "   0.47722222  0.7310002   0.03264858  1.243725   -0.92744934  0.59162807\n",
            "  -1.07868399  0.46449016  0.96237284 -0.15157063  0.8253901   0.03302137\n",
            "  -0.04772418 -0.51745563 -1.34987836 -2.31412601  0.74518691  1.184509  ]]\n",
            "Melhor Fitness: 0.0\n"
          ]
        }
      ]
    }
  ]
}