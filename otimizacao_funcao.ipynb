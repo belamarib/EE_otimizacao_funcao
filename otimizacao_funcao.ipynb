{
  "nbformat": 4,
  "nbformat_minor": 0,
  "metadata": {
    "colab": {
      "provenance": []
    },
    "kernelspec": {
      "name": "python3",
      "display_name": "Python 3"
    },
    "language_info": {
      "name": "python"
    }
  },
  "cells": [
    {
      "cell_type": "code",
      "execution_count": 1,
      "metadata": {
        "id": "apY4qwgk6Ajk"
      },
      "outputs": [],
      "source": [
        "import numpy as np"
      ]
    },
    {
      "cell_type": "markdown",
      "source": [
        "### Parâmetros"
      ],
      "metadata": {
        "id": "7lujvYH96RE5"
      }
    },
    {
      "cell_type": "code",
      "source": [
        "d = 30\n",
        "tamanho_pop = 50\n",
        "qte_filhos = 350\n",
        "max_geracoes = 100\n",
        "taxa_mut = 0.1"
      ],
      "metadata": {
        "id": "OjzpnNr9DiiG"
      },
      "execution_count": 56,
      "outputs": []
    },
    {
      "cell_type": "markdown",
      "source": [
        "### Funções de fitness"
      ],
      "metadata": {
        "id": "HhIZmnQnCAkv"
      }
    },
    {
      "cell_type": "code",
      "source": [
        "def ackley(x):\n",
        "    a = 20\n",
        "    b = 0.2\n",
        "    c = 2 * np.pi\n",
        "    term1 = -a * np.exp(-b * np.sqrt(np.sum(x**2) / d))\n",
        "    term2 = -np.exp(np.sum(np.cos(c * x)) / d)\n",
        "    return term1 + term2 + a + np.exp(1)"
      ],
      "metadata": {
        "id": "IYQBVMF3CCg3"
      },
      "execution_count": 39,
      "outputs": []
    },
    {
      "cell_type": "code",
      "source": [
        "def rastrigin(x):\n",
        "    return 10 * d + np.sum(x**2 - 10 * np.cos(2 * np.pi * x))"
      ],
      "metadata": {
        "id": "_7O6czyJCGkH"
      },
      "execution_count": 40,
      "outputs": []
    },
    {
      "cell_type": "code",
      "source": [
        "def schwefel(x):\n",
        "    return 418.9829 * d - np.sum(x * np.sin(np.sqrt(np.abs(x))))"
      ],
      "metadata": {
        "id": "2Zh6BgWOCHru"
      },
      "execution_count": 41,
      "outputs": []
    },
    {
      "cell_type": "code",
      "source": [
        "def rosenbrock(x):\n",
        "    return np.sum(100 * (x[1:] - x[:-1]**2)**2 + (1 - x[:-1])**2)"
      ],
      "metadata": {
        "id": "XEsiglonCI6e"
      },
      "execution_count": 42,
      "outputs": []
    },
    {
      "cell_type": "markdown",
      "source": [
        "### Inicialização da população\n",
        "A população é representada por uma matriz bidimensional, na qual cada linha representa um indivíduo e cada coluna representa um gene. Dependendo da função que queremos analisar, definimos um intervalo de valores diferentes para os genes."
      ],
      "metadata": {
        "id": "h-A6RdxUCd4G"
      }
    },
    {
      "cell_type": "code",
      "source": [
        "def init_populacao(f):\n",
        "    if f == ackley:\n",
        "      return np.random.uniform(-32.768, 32.768, size=(tamanho_pop, d))\n",
        "    elif f == rastrigin:\n",
        "      return np.random.uniform(-5.12, 5.12, size=(tamanho_pop, d))\n",
        "    elif f == schwefel:\n",
        "      return np.random.uniform(-500, 500, size=(tamanho_pop, d))\n",
        "    elif f == rosenbrock:\n",
        "      return np.random.uniform(-2.048, 2.048, size=(tamanho_pop, d))"
      ],
      "metadata": {
        "id": "Rm7IUg26Dd3G"
      },
      "execution_count": 43,
      "outputs": []
    },
    {
      "cell_type": "markdown",
      "source": [
        "### Seleção de pais\n",
        "Torneio de 5 indivíduos aleatórios, selecionando o melhor."
      ],
      "metadata": {
        "id": "5Hiv_-szHwFl"
      }
    },
    {
      "cell_type": "code",
      "source": [
        "def torneio(populacao, fitness_populacao, tam_torneio):\n",
        "    ind_torneio = np.random.choice(len(populacao), size=tam_torneio, replace=False)\n",
        "    fitness_torneio = fitness_populacao[ind_torneio]\n",
        "    ind_melhor = ind_torneio[np.argmin(fitness_torneio)]\n",
        "    return populacao[ind_melhor]"
      ],
      "metadata": {
        "id": "BDKwjpBrHyx8"
      },
      "execution_count": 58,
      "outputs": []
    },
    {
      "cell_type": "markdown",
      "source": [
        "### Recombinação intermediária\n",
        "Define uma combinação linear entre os cromossomos dos dois pais. Alpha é uma matriz com valores aleatórios entre 0 e 1."
      ],
      "metadata": {
        "id": "g9gZ_j_XNOtL"
      }
    },
    {
      "cell_type": "code",
      "source": [
        "def crossover(pai1, pai2):\n",
        "    alpha = np.random.rand(d)\n",
        "    filho = alpha * pai1 + (1 - alpha) * pai2\n",
        "    return filho"
      ],
      "metadata": {
        "id": "0kJM4DjVNRkK"
      },
      "execution_count": 45,
      "outputs": []
    },
    {
      "cell_type": "markdown",
      "source": [
        "### Mutação Gaussiana\n",
        "Índices aleatórios dos genes do filho gerado são escolhidos para ser aplicada a mutação, com base na taxa definida. A partir daí, são adicionados nesses genes valores de uma distribuição gaussiana com média 0 e desvio padrão 1."
      ],
      "metadata": {
        "id": "0OsuffMoRZ71"
      }
    },
    {
      "cell_type": "code",
      "source": [
        "def mutacao(filho):\n",
        "    mascara_mut = np.random.rand(d) < taxa_mut\n",
        "    filho[mascara_mut] += np.random.normal(0, 1, np.sum(mascara_mut))\n",
        "    return filho"
      ],
      "metadata": {
        "id": "S-3qsUMsRb9b"
      },
      "execution_count": 46,
      "outputs": []
    },
    {
      "cell_type": "markdown",
      "source": [
        "### Seleção de sobreviventes\n",
        "É usada a estratégia ( μ , λ ) de seleção de sobreviventes, na qual λ = 7 . μ, sendo selecionados os 50 melhores filhos entre os 350."
      ],
      "metadata": {
        "id": "lAOBbmvPaLCZ"
      }
    },
    {
      "cell_type": "code",
      "source": [
        "def selecao_sobreviventes(populacao_nova, funcao_fitness):\n",
        "    sobreviventes = sorted(populacao_nova, key=funcao_fitness)\n",
        "    sobreviventes = sobreviventes[:50]\n",
        "    return sobreviventes"
      ],
      "metadata": {
        "id": "uqVtBSXraRTm"
      },
      "execution_count": 60,
      "outputs": []
    },
    {
      "cell_type": "markdown",
      "source": [
        "### Algoritmo de Estratégia Evolutiva"
      ],
      "metadata": {
        "id": "xRXpfIGyTwv8"
      }
    },
    {
      "cell_type": "code",
      "source": [
        "def estrategia_evolutiva(funcao_fitness):\n",
        "    populacao = init_populacao(funcao_fitness)\n",
        "\n",
        "    for geracao in range(max_geracoes):\n",
        "        fitness_populacao = np.array([funcao_fitness(individuo) for individuo in populacao])\n",
        "\n",
        "        melhor_indice = np.argmin(fitness_populacao)\n",
        "        melhor_individuo = populacao[melhor_indice]\n",
        "        melhor_fitness = fitness_populacao[melhor_indice]\n",
        "\n",
        "        if geracao % 10 == 0:\n",
        "            print(f\"Geração {geracao}: Melhor Fitness = {melhor_fitness}\")\n",
        "\n",
        "        populacao_nova = []\n",
        "\n",
        "        while len(populacao_nova) < qte_filhos:\n",
        "            pai1 = torneio(populacao, fitness_populacao, tam_torneio=5)\n",
        "            pai2 = torneio(populacao, fitness_populacao, tam_torneio=5)\n",
        "\n",
        "            filho = crossover(pai1, pai2)\n",
        "            child = mutacao(filho)\n",
        "\n",
        "            populacao_nova.append(filho)\n",
        "\n",
        "        sobreviventes = selecao_sobreviventes(populacao_nova, funcao_fitness)\n",
        "        populacao = np.array(sobreviventes)\n",
        "\n",
        "    return melhor_individuo, melhor_fitness"
      ],
      "metadata": {
        "id": "fPGQ8SvSTz5x"
      },
      "execution_count": 61,
      "outputs": []
    },
    {
      "cell_type": "markdown",
      "source": [
        "### Rodando a EE para a função Ackley"
      ],
      "metadata": {
        "id": "PMr7Tsb-Xzaf"
      }
    },
    {
      "cell_type": "code",
      "source": [
        "melhor_solucao, melhor_fitness = estrategia_evolutiva(ackley)\n",
        "print(f\"Melhor Solução: {melhor_solucao}\")\n",
        "print(f\"Melhor Fitness: {melhor_fitness}\")"
      ],
      "metadata": {
        "colab": {
          "base_uri": "https://localhost:8080/"
        },
        "id": "Xal1cRKvX2b6",
        "outputId": "55ed6e9b-2279-47ea-df0f-311012df380d"
      },
      "execution_count": 62,
      "outputs": [
        {
          "output_type": "stream",
          "name": "stdout",
          "text": [
            "Geração 0: Melhor Fitness = 21.021836313692003\n",
            "Geração 10: Melhor Fitness = 7.260796033710825\n",
            "Geração 20: Melhor Fitness = 3.7049031286059813\n",
            "Geração 30: Melhor Fitness = 1.534838920013311\n",
            "Geração 40: Melhor Fitness = 0.4504263553857588\n",
            "Geração 50: Melhor Fitness = 0.3128261028290926\n",
            "Geração 60: Melhor Fitness = 0.25336184157970054\n",
            "Geração 70: Melhor Fitness = 0.21122013751543678\n",
            "Geração 80: Melhor Fitness = 0.16399489277278478\n",
            "Geração 90: Melhor Fitness = 0.1091163840076459\n",
            "Melhor Solução: [-0.00984718  0.00621031 -0.00458832  0.01614136  0.01930142 -0.00823515\n",
            " -0.01731824  0.00950004  0.03221017 -0.00452735 -0.00908366  0.00568091\n",
            "  0.0138306   0.02088296 -0.01889586  0.01131234  0.00683289 -0.01359861\n",
            "  0.02776124  0.00535955 -0.01098643 -0.0102693  -0.00155372 -0.02217831\n",
            " -0.04988917  0.0043977   0.03389231  0.00544066 -0.02388791 -0.00719977]\n",
            "Melhor Fitness: 0.08844449872927074\n"
          ]
        }
      ]
    },
    {
      "cell_type": "markdown",
      "source": [
        "### Rodando a EE para a função Rastrigin"
      ],
      "metadata": {
        "id": "mQpzcPiBYhjp"
      }
    },
    {
      "cell_type": "code",
      "source": [
        "melhor_solucao, melhor_fitness = estrategia_evolutiva(rastrigin)\n",
        "print(f\"Melhor Solução: {melhor_solucao}\")\n",
        "print(f\"Melhor Fitness: {melhor_fitness}\")"
      ],
      "metadata": {
        "colab": {
          "base_uri": "https://localhost:8080/"
        },
        "id": "GkXRrLrEYhRH",
        "outputId": "1b31ce96-d1a1-4040-8340-694cc6dfb8a8"
      },
      "execution_count": 63,
      "outputs": [
        {
          "output_type": "stream",
          "name": "stdout",
          "text": [
            "Geração 0: Melhor Fitness = 424.93922995891603\n",
            "Geração 10: Melhor Fitness = 108.52969097687418\n",
            "Geração 20: Melhor Fitness = 82.1355363238468\n",
            "Geração 30: Melhor Fitness = 63.128182904408476\n",
            "Geração 40: Melhor Fitness = 49.11746102163826\n",
            "Geração 50: Melhor Fitness = 47.052332260538066\n",
            "Geração 60: Melhor Fitness = 39.309863113255346\n",
            "Geração 70: Melhor Fitness = 30.142863894569473\n",
            "Geração 80: Melhor Fitness = 33.32267448862916\n",
            "Geração 90: Melhor Fitness = 42.89836970646195\n",
            "Melhor Solução: [ 0.03516815  1.01651988  1.00856613  0.02176771  0.00353558  0.03494691\n",
            "  0.88660838  1.05034438 -0.02523627  0.03975763  1.95678395  1.03668581\n",
            " -0.13356552 -0.01947289 -0.92303295  0.0412891   1.0205679  -1.01260083\n",
            " -0.01214501  0.12417111  1.01220783  0.95464279  0.02135465  0.81471915\n",
            "  0.03106602  1.05042123 -0.99436253  0.05092459 -0.07623259 -0.93574281]\n",
            "Melhor Fitness: 39.63283499725395\n"
          ]
        }
      ]
    },
    {
      "cell_type": "markdown",
      "source": [
        "### Rodando a EE para a função Schwefel"
      ],
      "metadata": {
        "id": "TzQkePvbYvdS"
      }
    },
    {
      "cell_type": "code",
      "source": [
        "melhor_solucao, melhor_fitness = estrategia_evolutiva(schwefel)\n",
        "print(f\"Melhor Solução: {melhor_solucao}\")\n",
        "print(f\"Melhor Fitness: {melhor_fitness}\")"
      ],
      "metadata": {
        "colab": {
          "base_uri": "https://localhost:8080/"
        },
        "id": "GptE-NPAY2Ee",
        "outputId": "9b799f09-429b-4ca9-b406-208cc905886d"
      },
      "execution_count": 64,
      "outputs": [
        {
          "output_type": "stream",
          "name": "stdout",
          "text": [
            "Geração 0: Melhor Fitness = 10047.838137651624\n",
            "Geração 10: Melhor Fitness = 6887.704696673001\n",
            "Geração 20: Melhor Fitness = 6694.476822082645\n",
            "Geração 30: Melhor Fitness = 6485.365727761715\n",
            "Geração 40: Melhor Fitness = 6310.737063001298\n",
            "Geração 50: Melhor Fitness = 6107.865770089749\n",
            "Geração 60: Melhor Fitness = 5956.272912702068\n",
            "Geração 70: Melhor Fitness = 5804.109192946136\n",
            "Geração 80: Melhor Fitness = 5645.393957031505\n",
            "Geração 90: Melhor Fitness = 5534.61573422064\n",
            "Melhor Solução: [ -26.02958233 -118.9154948   196.55189204 -293.16647467  422.49328063\n",
            " -129.14200779 -301.74496153  202.77770444 -300.83347565 -301.1119992\n",
            "  414.09428434  413.82933882  201.30735178 -308.20727274 -296.11288301\n",
            " -302.95250058 -297.50338065 -131.88337859  201.36755916  192.4744437\n",
            " -125.10055231  198.1495506    11.1999391  -120.41030958 -121.43271898\n",
            "  419.53066575  192.49957072  425.3797311  -123.71903343  420.29091534]\n",
            "Melhor Fitness: 5457.708904133631\n"
          ]
        }
      ]
    },
    {
      "cell_type": "markdown",
      "source": [
        "### Rodando a EE para a função Rosebrock"
      ],
      "metadata": {
        "id": "hPpzPkmzY6Xp"
      }
    },
    {
      "cell_type": "code",
      "source": [
        "melhor_solucao, melhor_fitness = estrategia_evolutiva(rosenbrock)\n",
        "print(f\"Melhor Solução: {melhor_solucao}\")\n",
        "print(f\"Melhor Fitness: {melhor_fitness}\")"
      ],
      "metadata": {
        "colab": {
          "base_uri": "https://localhost:8080/"
        },
        "id": "UgIiDxfTY-ZH",
        "outputId": "a61bf428-32c1-432f-bbdd-7f89817b4e7c"
      },
      "execution_count": 65,
      "outputs": [
        {
          "output_type": "stream",
          "name": "stdout",
          "text": [
            "Geração 0: Melhor Fitness = 8571.733313399794\n",
            "Geração 10: Melhor Fitness = 73.24509282130154\n",
            "Geração 20: Melhor Fitness = 42.89013521238823\n",
            "Geração 30: Melhor Fitness = 36.87828244125832\n",
            "Geração 40: Melhor Fitness = 34.08646625484983\n",
            "Geração 50: Melhor Fitness = 31.682448988520285\n",
            "Geração 60: Melhor Fitness = 30.556835336351053\n",
            "Geração 70: Melhor Fitness = 29.924529353012\n",
            "Geração 80: Melhor Fitness = 29.26713207687928\n",
            "Geração 90: Melhor Fitness = 28.94024181733437\n",
            "Melhor Solução: [ 0.19036252  0.02413241  0.0083825   0.01961787  0.02154182  0.02237889\n",
            "  0.02270819  0.04375988  0.02868429  0.02466531  0.03699274  0.00855914\n",
            "  0.01367187  0.01683902  0.00541586  0.02076243  0.02876327  0.02375099\n",
            "  0.01717242 -0.00489709  0.01703579  0.01951606  0.03057921  0.02658862\n",
            "  0.00293713  0.00569693  0.01456282  0.02081196  0.02039659  0.0080807 ]\n",
            "Melhor Fitness: 28.831800576807197\n"
          ]
        }
      ]
    }
  ]
}